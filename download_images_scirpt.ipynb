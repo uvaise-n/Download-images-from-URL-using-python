{
 "cells": [
  {
   "cell_type": "code",
   "execution_count": 59,
   "metadata": {},
   "outputs": [],
   "source": [
    "\n",
    "## Importing Necessary Modules\n",
    "import requests # to get image from the web\n",
    "import shutil # to save it locally\n",
    "import pandas as pd\n",
    "import urllib"
   ]
  },
  {
   "cell_type": "markdown",
   "metadata": {},
   "source": [
    "Inspiration: https://towardsdatascience.com/how-to-download-an-image-using-python-38a75cfa21c"
   ]
  },
  {
   "cell_type": "code",
   "execution_count": 60,
   "metadata": {},
   "outputs": [
    {
     "data": {
      "text/plain": [
       "(10, 2)"
      ]
     },
     "execution_count": 60,
     "metadata": {},
     "output_type": "execute_result"
    }
   ],
   "source": [
    "#read the data \n",
    "df=pd.read_csv(r\"..\\excel_url.csv\")\n",
    "df.shape"
   ]
  },
  {
   "cell_type": "code",
   "execution_count": 61,
   "metadata": {},
   "outputs": [
    {
     "data": {
      "text/plain": [
       "Index(['CREATIVE_ID', 'CREATIVE_SUPPLIER'], dtype='object')"
      ]
     },
     "execution_count": 61,
     "metadata": {},
     "output_type": "execute_result"
    }
   ],
   "source": [
    "df.columns"
   ]
  },
  {
   "cell_type": "code",
   "execution_count": 62,
   "metadata": {},
   "outputs": [],
   "source": [
    "df=df.drop_duplicates()\n"
   ]
  },
  {
   "cell_type": "code",
   "execution_count": 63,
   "metadata": {},
   "outputs": [
    {
     "data": {
      "text/plain": [
       "10"
      ]
     },
     "execution_count": 63,
     "metadata": {},
     "output_type": "execute_result"
    }
   ],
   "source": [
    "df.shape\n",
    "a=df.shape[0]\n",
    "a"
   ]
  },
  {
   "cell_type": "code",
   "execution_count": 65,
   "metadata": {},
   "outputs": [
    {
     "name": "stdout",
     "output_type": "stream",
     "text": [
      "Image sucessfully Downloaded:  3924857205.mp4\n",
      "Image sucessfully Downloaded:  3930777220.mp4\n",
      "Image sucessfully Downloaded:  2276737918.gif\n",
      "Image sucessfully Downloaded:  3941240705.mp4\n",
      "Image sucessfully Downloaded:  3938197347.mp4\n",
      "Image sucessfully Downloaded:  3763385820.mp4\n",
      "Image sucessfully Downloaded:  2399335315.mp4\n",
      "Image sucessfully Downloaded:  3799777988.mp4\n",
      "Image sucessfully Downloaded:  3675849336.mp4\n",
      "Image sucessfully Downloaded:  2371582767.mp4\n"
     ]
    }
   ],
   "source": [
    "for i in range (a):\n",
    "    url = df['URL'][i]\n",
    "    ext = df['URL'][i].split(\".\")[-1]\n",
    "    filename = df['ID'][i] \n",
    "    filename=filename.astype(str)\n",
    "    filename=filename+\".\"+ext\n",
    "\n",
    "    r = requests.get(url, stream = True)\n",
    "\n",
    "    if r.status_code == 200:\n",
    "        r.raw.decode_content = True \n",
    "        with open(filename,'wb') as f:\n",
    "            shutil.copyfileobj(r.raw, f)\n",
    "        print('Media sucessfully Downloaded: ',filename)\n",
    "    else:\n",
    "        print('Media Couldn\\'t be retreived')\n",
    "\n",
    "    \n"
   ]
  }
 ],
 "metadata": {
  "interpreter": {
   "hash": "ecf5722fdaf1897a315d257d89d94520bfcaa453217d5becf09b39e73618b0de"
  },
  "kernelspec": {
   "display_name": "Python 3.9.5 64-bit ('base': conda)",
   "name": "python3"
  },
  "language_info": {
   "codemirror_mode": {
    "name": "ipython",
    "version": 3
   },
   "file_extension": ".py",
   "mimetype": "text/x-python",
   "name": "python",
   "nbconvert_exporter": "python",
   "pygments_lexer": "ipython3",
   "version": "3.9.5"
  },
  "orig_nbformat": 4
 },
 "nbformat": 4,
 "nbformat_minor": 2
}
